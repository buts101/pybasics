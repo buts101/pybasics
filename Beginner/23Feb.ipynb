{
 "cells": [
  {
   "cell_type": "markdown",
   "metadata": {},
   "source": [
    "# Day 7\n",
    "---\n",
    "- Numpy Intro\n",
    "- List Comprehension"
   ]
  },
  {
   "cell_type": "code",
   "execution_count": 1,
   "metadata": {
    "collapsed": true
   },
   "outputs": [],
   "source": [
    "import numpy as np"
   ]
  },
  {
   "cell_type": "code",
   "execution_count": 2,
   "metadata": {
    "collapsed": false
   },
   "outputs": [
    {
     "data": {
      "text/plain": [
       "-0.98803162409286183"
      ]
     },
     "execution_count": 2,
     "metadata": {},
     "output_type": "execute_result"
    }
   ],
   "source": [
    "np.sin(30)"
   ]
  },
  {
   "cell_type": "code",
   "execution_count": 3,
   "metadata": {
    "collapsed": false
   },
   "outputs": [
    {
     "data": {
      "text/plain": [
       "array([ 0.        ,  0.84147098,  0.90929743,  0.14112001, -0.7568025 ,\n",
       "       -0.95892427, -0.2794155 ,  0.6569866 ,  0.98935825,  0.41211849,\n",
       "       -0.54402111, -0.99999021, -0.53657292,  0.42016704,  0.99060736,\n",
       "        0.65028784, -0.28790332, -0.96139749, -0.75098725,  0.14987721,\n",
       "        0.91294525,  0.83665564, -0.00885131, -0.8462204 , -0.90557836,\n",
       "       -0.13235175,  0.76255845,  0.95637593,  0.27090579, -0.66363388,\n",
       "       -0.98803162, -0.40403765,  0.55142668,  0.99991186,  0.52908269,\n",
       "       -0.42818267, -0.99177885, -0.64353813,  0.29636858,  0.96379539,\n",
       "        0.74511316, -0.15862267, -0.91652155, -0.83177474,  0.01770193,\n",
       "        0.85090352,  0.90178835,  0.12357312, -0.76825466, -0.95375265,\n",
       "       -0.26237485,  0.67022918,  0.98662759,  0.39592515, -0.55878905,\n",
       "       -0.99975517, -0.521551  ,  0.43616476,  0.99287265,  0.63673801,\n",
       "       -0.30481062, -0.96611777, -0.7391807 ,  0.1673557 ,  0.92002604,\n",
       "        0.82682868, -0.02655115, -0.85551998, -0.89792768, -0.11478481,\n",
       "        0.77389068,  0.95105465,  0.25382336, -0.67677196, -0.98514626,\n",
       "       -0.38778164,  0.56610764,  0.99952016,  0.51397846, -0.44411267,\n",
       "       -0.99388865, -0.62988799,  0.31322878,  0.96836446,  0.73319032,\n",
       "       -0.17607562, -0.92345845, -0.82181784,  0.0353983 ,  0.86006941,\n",
       "        0.89399666])"
      ]
     },
     "execution_count": 3,
     "metadata": {},
     "output_type": "execute_result"
    }
   ],
   "source": [
    "np.sin([deg for deg in range(0,91)])"
   ]
  },
  {
   "cell_type": "code",
   "execution_count": 7,
   "metadata": {
    "collapsed": true
   },
   "outputs": [],
   "source": [
    "paragraph=\"\"\"Mrs. Bates, the widow of a former vicar of Highbury, was a very old\n",
    "lady, almost past every thing but tea and quadrille. She lived with her\n",
    "single daughter in a very small way, and was considered with all the\n",
    "regard and respect which a harmless old lady, under such untoward\n",
    "circumstances, can excite. Her daughter enjoyed a most uncommon degree\n",
    "of popularity for a woman neither young, handsome, rich, nor married.\n",
    "Miss Bates stood in the very worst predicament in the world for having\n",
    "much of the public favour; and she had no intellectual superiority to\n",
    "make atonement to herself, or frighten those who might hate her into\n",
    "outward respect. She had never boasted either beauty or cleverness. Her\n",
    "youth had passed without distinction, and her middle of life was devoted\n",
    "to the care of a failing mother, and the endeavour to make a small\n",
    "income go as far as possible. And yet she was a happy woman, and a woman\n",
    "whom no one named without good-will. It was her own universal good-will\n",
    "and contented temper which worked such wonders. She loved every body,\n",
    "was interested in every body’s happiness, quicksighted to every body’s\n",
    "merits; thought herself a most fortunate creature, and surrounded with\n",
    "blessings in such an excellent mother, and so many good neighbours\n",
    "and friends, and a home that wanted for nothing. The simplicity and\n",
    "cheerfulness of her nature, her contented and grateful spirit, were a\n",
    "recommendation to every body, and a mine of felicity to herself. She was\n",
    "a great talker upon little matters, which exactly suited Mr. Woodhouse,\n",
    "full of trivial communications and harmless gossip.\"\"\"\n"
   ]
  },
  {
   "cell_type": "code",
   "execution_count": null,
   "metadata": {
    "collapsed": true
   },
   "outputs": [],
   "source": []
  },
  {
   "cell_type": "code",
   "execution_count": null,
   "metadata": {
    "collapsed": true
   },
   "outputs": [],
   "source": []
  },
  {
   "cell_type": "code",
   "execution_count": 16,
   "metadata": {
    "collapsed": false
   },
   "outputs": [],
   "source": [
    "cleaned_text=paragraph.lower().replace(',','').replace('.','').replace('\\n','').strip()"
   ]
  },
  {
   "cell_type": "code",
   "execution_count": null,
   "metadata": {
    "collapsed": true
   },
   "outputs": [],
   "source": []
  },
  {
   "cell_type": "code",
   "execution_count": null,
   "metadata": {
    "collapsed": true
   },
   "outputs": [],
   "source": []
  },
  {
   "cell_type": "code",
   "execution_count": 17,
   "metadata": {
    "collapsed": false
   },
   "outputs": [
    {
     "data": {
      "text/plain": [
       "'mrs bates the widow of a former vicar of highbury was a very oldlady almost past every thing but tea and quadrille she lived with hersingle daughter in a very small way and was considered with all theregard and respect which a harmless old lady under such untowardcircumstances can excite her daughter enjoyed a most uncommon degreeof popularity for a woman neither young handsome rich nor marriedmiss bates stood in the very worst predicament in the world for havingmuch of the public favour; and she had no intellectual superiority tomake atonement to herself or frighten those who might hate her intooutward respect she had never boasted either beauty or cleverness heryouth had passed without distinction and her middle of life was devotedto the care of a failing mother and the endeavour to make a smallincome go as far as possible and yet she was a happy woman and a womanwhom no one named without good-will it was her own universal good-willand contented temper which worked such wonders she loved every bodywas interested in every body’s happiness quicksighted to every body’smerits; thought herself a most fortunate creature and surrounded withblessings in such an excellent mother and so many good neighboursand friends and a home that wanted for nothing the simplicity andcheerfulness of her nature her contented and grateful spirit were arecommendation to every body and a mine of felicity to herself she wasa great talker upon little matters which exactly suited mr woodhousefull of trivial communications and harmless gossip'"
      ]
     },
     "execution_count": 17,
     "metadata": {},
     "output_type": "execute_result"
    }
   ],
   "source": [
    "cleaned_text"
   ]
  },
  {
   "cell_type": "code",
   "execution_count": null,
   "metadata": {
    "collapsed": true
   },
   "outputs": [],
   "source": []
  },
  {
   "cell_type": "code",
   "execution_count": 18,
   "metadata": {
    "collapsed": true
   },
   "outputs": [],
   "source": [
    "word_list=cleaned_text.split()"
   ]
  },
  {
   "cell_type": "code",
   "execution_count": null,
   "metadata": {
    "collapsed": true
   },
   "outputs": [],
   "source": []
  },
  {
   "cell_type": "code",
   "execution_count": 21,
   "metadata": {
    "collapsed": false
   },
   "outputs": [
    {
     "data": {
      "text/plain": [
       "{'a': 13,\n",
       " 'all': 1,\n",
       " 'almost': 1,\n",
       " 'an': 1,\n",
       " 'and': 14,\n",
       " 'andcheerfulness': 1,\n",
       " 'arecommendation': 1,\n",
       " 'as': 2,\n",
       " 'atonement': 1,\n",
       " 'bates': 2,\n",
       " 'beauty': 1,\n",
       " 'boasted': 1,\n",
       " 'body': 1,\n",
       " 'bodywas': 1,\n",
       " 'body’s': 1,\n",
       " 'body’smerits;': 1,\n",
       " 'but': 1,\n",
       " 'can': 1,\n",
       " 'care': 1,\n",
       " 'cleverness': 1,\n",
       " 'communications': 1,\n",
       " 'considered': 1,\n",
       " 'contented': 2,\n",
       " 'creature': 1,\n",
       " 'daughter': 2,\n",
       " 'degreeof': 1,\n",
       " 'devotedto': 1,\n",
       " 'distinction': 1,\n",
       " 'either': 1,\n",
       " 'endeavour': 1,\n",
       " 'enjoyed': 1,\n",
       " 'every': 5,\n",
       " 'exactly': 1,\n",
       " 'excellent': 1,\n",
       " 'excite': 1,\n",
       " 'failing': 1,\n",
       " 'far': 1,\n",
       " 'favour;': 1,\n",
       " 'felicity': 1,\n",
       " 'for': 3,\n",
       " 'former': 1,\n",
       " 'fortunate': 1,\n",
       " 'friends': 1,\n",
       " 'frighten': 1,\n",
       " 'go': 1,\n",
       " 'good': 1,\n",
       " 'good-will': 1,\n",
       " 'good-willand': 1,\n",
       " 'gossip': 1,\n",
       " 'grateful': 1,\n",
       " 'great': 1,\n",
       " 'had': 3,\n",
       " 'handsome': 1,\n",
       " 'happiness': 1,\n",
       " 'happy': 1,\n",
       " 'harmless': 2,\n",
       " 'hate': 1,\n",
       " 'havingmuch': 1,\n",
       " 'her': 6,\n",
       " 'herself': 3,\n",
       " 'hersingle': 1,\n",
       " 'heryouth': 1,\n",
       " 'highbury': 1,\n",
       " 'home': 1,\n",
       " 'in': 5,\n",
       " 'intellectual': 1,\n",
       " 'interested': 1,\n",
       " 'intooutward': 1,\n",
       " 'it': 1,\n",
       " 'lady': 1,\n",
       " 'life': 1,\n",
       " 'little': 1,\n",
       " 'lived': 1,\n",
       " 'loved': 1,\n",
       " 'make': 1,\n",
       " 'many': 1,\n",
       " 'marriedmiss': 1,\n",
       " 'matters': 1,\n",
       " 'middle': 1,\n",
       " 'might': 1,\n",
       " 'mine': 1,\n",
       " 'most': 2,\n",
       " 'mother': 2,\n",
       " 'mr': 1,\n",
       " 'mrs': 1,\n",
       " 'named': 1,\n",
       " 'nature': 1,\n",
       " 'neighboursand': 1,\n",
       " 'neither': 1,\n",
       " 'never': 1,\n",
       " 'no': 2,\n",
       " 'nor': 1,\n",
       " 'nothing': 1,\n",
       " 'of': 8,\n",
       " 'old': 1,\n",
       " 'oldlady': 1,\n",
       " 'one': 1,\n",
       " 'or': 2,\n",
       " 'own': 1,\n",
       " 'passed': 1,\n",
       " 'past': 1,\n",
       " 'popularity': 1,\n",
       " 'possible': 1,\n",
       " 'predicament': 1,\n",
       " 'public': 1,\n",
       " 'quadrille': 1,\n",
       " 'quicksighted': 1,\n",
       " 'respect': 2,\n",
       " 'rich': 1,\n",
       " 'she': 6,\n",
       " 'simplicity': 1,\n",
       " 'small': 1,\n",
       " 'smallincome': 1,\n",
       " 'so': 1,\n",
       " 'spirit': 1,\n",
       " 'stood': 1,\n",
       " 'such': 3,\n",
       " 'suited': 1,\n",
       " 'superiority': 1,\n",
       " 'surrounded': 1,\n",
       " 'talker': 1,\n",
       " 'tea': 1,\n",
       " 'temper': 1,\n",
       " 'that': 1,\n",
       " 'the': 7,\n",
       " 'theregard': 1,\n",
       " 'thing': 1,\n",
       " 'those': 1,\n",
       " 'thought': 1,\n",
       " 'to': 5,\n",
       " 'tomake': 1,\n",
       " 'trivial': 1,\n",
       " 'uncommon': 1,\n",
       " 'under': 1,\n",
       " 'universal': 1,\n",
       " 'untowardcircumstances': 1,\n",
       " 'upon': 1,\n",
       " 'very': 3,\n",
       " 'vicar': 1,\n",
       " 'wanted': 1,\n",
       " 'was': 5,\n",
       " 'wasa': 1,\n",
       " 'way': 1,\n",
       " 'were': 1,\n",
       " 'which': 3,\n",
       " 'who': 1,\n",
       " 'widow': 1,\n",
       " 'with': 2,\n",
       " 'withblessings': 1,\n",
       " 'without': 2,\n",
       " 'woman': 2,\n",
       " 'womanwhom': 1,\n",
       " 'wonders': 1,\n",
       " 'woodhousefull': 1,\n",
       " 'worked': 1,\n",
       " 'world': 1,\n",
       " 'worst': 1,\n",
       " 'yet': 1,\n",
       " 'young': 1}"
      ]
     },
     "execution_count": 21,
     "metadata": {},
     "output_type": "execute_result"
    }
   ],
   "source": [
    "{word:word_list.count(word) for word in set(word_list)}"
   ]
  },
  {
   "cell_type": "code",
   "execution_count": 22,
   "metadata": {
    "collapsed": false
   },
   "outputs": [
    {
     "data": {
      "text/plain": [
       "set"
      ]
     },
     "execution_count": 22,
     "metadata": {},
     "output_type": "execute_result"
    }
   ],
   "source": [
    "type(set())"
   ]
  },
  {
   "cell_type": "code",
   "execution_count": 23,
   "metadata": {
    "collapsed": false
   },
   "outputs": [
    {
     "data": {
      "text/plain": [
       "{'a',\n",
       " 'all',\n",
       " 'almost',\n",
       " 'an',\n",
       " 'and',\n",
       " 'andcheerfulness',\n",
       " 'arecommendation',\n",
       " 'as',\n",
       " 'atonement',\n",
       " 'bates',\n",
       " 'beauty',\n",
       " 'boasted',\n",
       " 'body',\n",
       " 'bodywas',\n",
       " 'but',\n",
       " 'can',\n",
       " 'care',\n",
       " 'cleverness',\n",
       " 'communications',\n",
       " 'considered',\n",
       " 'contented',\n",
       " 'creature',\n",
       " 'daughter',\n",
       " 'degreeof',\n",
       " 'devotedto',\n",
       " 'distinction',\n",
       " 'either',\n",
       " 'endeavour',\n",
       " 'enjoyed',\n",
       " 'every',\n",
       " 'exactly',\n",
       " 'excellent',\n",
       " 'excite',\n",
       " 'failing',\n",
       " 'far',\n",
       " 'felicity',\n",
       " 'for',\n",
       " 'former',\n",
       " 'fortunate',\n",
       " 'friends',\n",
       " 'frighten',\n",
       " 'go',\n",
       " 'good',\n",
       " 'gossip',\n",
       " 'grateful',\n",
       " 'great',\n",
       " 'had',\n",
       " 'handsome',\n",
       " 'happiness',\n",
       " 'happy',\n",
       " 'harmless',\n",
       " 'hate',\n",
       " 'havingmuch',\n",
       " 'her',\n",
       " 'herself',\n",
       " 'hersingle',\n",
       " 'heryouth',\n",
       " 'highbury',\n",
       " 'home',\n",
       " 'in',\n",
       " 'intellectual',\n",
       " 'interested',\n",
       " 'intooutward',\n",
       " 'it',\n",
       " 'lady',\n",
       " 'life',\n",
       " 'little',\n",
       " 'lived',\n",
       " 'loved',\n",
       " 'make',\n",
       " 'many',\n",
       " 'marriedmiss',\n",
       " 'matters',\n",
       " 'middle',\n",
       " 'might',\n",
       " 'mine',\n",
       " 'most',\n",
       " 'mother',\n",
       " 'mr',\n",
       " 'mrs',\n",
       " 'named',\n",
       " 'nature',\n",
       " 'neighboursand',\n",
       " 'neither',\n",
       " 'never',\n",
       " 'no',\n",
       " 'nor',\n",
       " 'nothing',\n",
       " 'of',\n",
       " 'old',\n",
       " 'oldlady',\n",
       " 'one',\n",
       " 'or',\n",
       " 'own',\n",
       " 'passed',\n",
       " 'past',\n",
       " 'popularity',\n",
       " 'possible',\n",
       " 'predicament',\n",
       " 'public',\n",
       " 'quadrille',\n",
       " 'quicksighted',\n",
       " 'respect',\n",
       " 'rich',\n",
       " 'she',\n",
       " 'simplicity',\n",
       " 'small',\n",
       " 'smallincome',\n",
       " 'so',\n",
       " 'spirit',\n",
       " 'stood',\n",
       " 'such',\n",
       " 'suited',\n",
       " 'superiority',\n",
       " 'surrounded',\n",
       " 'talker',\n",
       " 'tea',\n",
       " 'temper',\n",
       " 'that',\n",
       " 'the',\n",
       " 'theregard',\n",
       " 'thing',\n",
       " 'those',\n",
       " 'thought',\n",
       " 'to',\n",
       " 'tomake',\n",
       " 'trivial',\n",
       " 'uncommon',\n",
       " 'under',\n",
       " 'universal',\n",
       " 'untowardcircumstances',\n",
       " 'upon',\n",
       " 'very',\n",
       " 'vicar',\n",
       " 'wanted',\n",
       " 'was',\n",
       " 'wasa',\n",
       " 'way',\n",
       " 'were',\n",
       " 'which',\n",
       " 'who',\n",
       " 'widow',\n",
       " 'with',\n",
       " 'withblessings',\n",
       " 'without',\n",
       " 'woman',\n",
       " 'womanwhom',\n",
       " 'wonders',\n",
       " 'woodhousefull',\n",
       " 'worked',\n",
       " 'world',\n",
       " 'worst',\n",
       " 'yet',\n",
       " 'young'}"
      ]
     },
     "execution_count": 23,
     "metadata": {},
     "output_type": "execute_result"
    }
   ],
   "source": [
    "{word for word in word_list if word.isalpha()}"
   ]
  },
  {
   "cell_type": "code",
   "execution_count": null,
   "metadata": {
    "collapsed": true
   },
   "outputs": [],
   "source": []
  },
  {
   "cell_type": "code",
   "execution_count": null,
   "metadata": {
    "collapsed": true
   },
   "outputs": [],
   "source": []
  },
  {
   "cell_type": "code",
   "execution_count": null,
   "metadata": {
    "collapsed": true
   },
   "outputs": [],
   "source": []
  },
  {
   "cell_type": "code",
   "execution_count": null,
   "metadata": {
    "collapsed": true
   },
   "outputs": [],
   "source": []
  },
  {
   "cell_type": "code",
   "execution_count": 11,
   "metadata": {
    "collapsed": false
   },
   "outputs": [
    {
     "data": {
      "text/plain": [
       "{'a',\n",
       " 'all',\n",
       " 'almost',\n",
       " 'an',\n",
       " 'and',\n",
       " 'andcheerfulness',\n",
       " 'arecommendation',\n",
       " 'as',\n",
       " 'atonement',\n",
       " 'bates',\n",
       " 'beauty',\n",
       " 'boasted',\n",
       " 'body',\n",
       " 'bodywas',\n",
       " 'body’s',\n",
       " 'body’smerits;',\n",
       " 'but',\n",
       " 'can',\n",
       " 'care',\n",
       " 'cleverness',\n",
       " 'communications',\n",
       " 'considered',\n",
       " 'contented',\n",
       " 'creature',\n",
       " 'daughter',\n",
       " 'degreeof',\n",
       " 'devotedto',\n",
       " 'distinction',\n",
       " 'either',\n",
       " 'endeavour',\n",
       " 'enjoyed',\n",
       " 'every',\n",
       " 'exactly',\n",
       " 'excellent',\n",
       " 'excite',\n",
       " 'failing',\n",
       " 'far',\n",
       " 'favour;',\n",
       " 'felicity',\n",
       " 'for',\n",
       " 'former',\n",
       " 'fortunate',\n",
       " 'friends',\n",
       " 'frighten',\n",
       " 'go',\n",
       " 'good',\n",
       " 'good-will',\n",
       " 'good-willand',\n",
       " 'gossip',\n",
       " 'grateful',\n",
       " 'great',\n",
       " 'had',\n",
       " 'handsome',\n",
       " 'happiness',\n",
       " 'happy',\n",
       " 'harmless',\n",
       " 'hate',\n",
       " 'havingmuch',\n",
       " 'her',\n",
       " 'herself',\n",
       " 'hersingle',\n",
       " 'heryouth',\n",
       " 'highbury',\n",
       " 'home',\n",
       " 'in',\n",
       " 'intellectual',\n",
       " 'interested',\n",
       " 'intooutward',\n",
       " 'it',\n",
       " 'lady',\n",
       " 'life',\n",
       " 'little',\n",
       " 'lived',\n",
       " 'loved',\n",
       " 'make',\n",
       " 'many',\n",
       " 'marriedmiss',\n",
       " 'matters',\n",
       " 'middle',\n",
       " 'might',\n",
       " 'mine',\n",
       " 'most',\n",
       " 'mother',\n",
       " 'mr',\n",
       " 'mrs',\n",
       " 'named',\n",
       " 'nature',\n",
       " 'neighboursand',\n",
       " 'neither',\n",
       " 'never',\n",
       " 'no',\n",
       " 'nor',\n",
       " 'nothing',\n",
       " 'of',\n",
       " 'old',\n",
       " 'oldlady',\n",
       " 'one',\n",
       " 'or',\n",
       " 'own',\n",
       " 'passed',\n",
       " 'past',\n",
       " 'popularity',\n",
       " 'possible',\n",
       " 'predicament',\n",
       " 'public',\n",
       " 'quadrille',\n",
       " 'quicksighted',\n",
       " 'respect',\n",
       " 'rich',\n",
       " 'she',\n",
       " 'simplicity',\n",
       " 'small',\n",
       " 'smallincome',\n",
       " 'so',\n",
       " 'spirit',\n",
       " 'stood',\n",
       " 'such',\n",
       " 'suited',\n",
       " 'superiority',\n",
       " 'surrounded',\n",
       " 'talker',\n",
       " 'tea',\n",
       " 'temper',\n",
       " 'that',\n",
       " 'the',\n",
       " 'theregard',\n",
       " 'thing',\n",
       " 'those',\n",
       " 'thought',\n",
       " 'to',\n",
       " 'tomake',\n",
       " 'trivial',\n",
       " 'uncommon',\n",
       " 'under',\n",
       " 'universal',\n",
       " 'untowardcircumstances',\n",
       " 'upon',\n",
       " 'very',\n",
       " 'vicar',\n",
       " 'wanted',\n",
       " 'was',\n",
       " 'wasa',\n",
       " 'way',\n",
       " 'were',\n",
       " 'which',\n",
       " 'who',\n",
       " 'widow',\n",
       " 'with',\n",
       " 'withblessings',\n",
       " 'without',\n",
       " 'woman',\n",
       " 'womanwhom',\n",
       " 'wonders',\n",
       " 'woodhousefull',\n",
       " 'worked',\n",
       " 'world',\n",
       " 'worst',\n",
       " 'yet',\n",
       " 'young'}"
      ]
     },
     "execution_count": 11,
     "metadata": {},
     "output_type": "execute_result"
    }
   ],
   "source": [
    "set(cleaned_text)"
   ]
  },
  {
   "cell_type": "code",
   "execution_count": 24,
   "metadata": {
    "collapsed": false
   },
   "outputs": [
    {
     "data": {
      "text/plain": [
       "['__and__',\n",
       " '__class__',\n",
       " '__contains__',\n",
       " '__delattr__',\n",
       " '__dir__',\n",
       " '__doc__',\n",
       " '__eq__',\n",
       " '__format__',\n",
       " '__ge__',\n",
       " '__getattribute__',\n",
       " '__gt__',\n",
       " '__hash__',\n",
       " '__iand__',\n",
       " '__init__',\n",
       " '__init_subclass__',\n",
       " '__ior__',\n",
       " '__isub__',\n",
       " '__iter__',\n",
       " '__ixor__',\n",
       " '__le__',\n",
       " '__len__',\n",
       " '__lt__',\n",
       " '__ne__',\n",
       " '__new__',\n",
       " '__or__',\n",
       " '__rand__',\n",
       " '__reduce__',\n",
       " '__reduce_ex__',\n",
       " '__repr__',\n",
       " '__ror__',\n",
       " '__rsub__',\n",
       " '__rxor__',\n",
       " '__setattr__',\n",
       " '__sizeof__',\n",
       " '__str__',\n",
       " '__sub__',\n",
       " '__subclasshook__',\n",
       " '__xor__',\n",
       " 'add',\n",
       " 'clear',\n",
       " 'copy',\n",
       " 'difference',\n",
       " 'difference_update',\n",
       " 'discard',\n",
       " 'intersection',\n",
       " 'intersection_update',\n",
       " 'isdisjoint',\n",
       " 'issubset',\n",
       " 'issuperset',\n",
       " 'pop',\n",
       " 'remove',\n",
       " 'symmetric_difference',\n",
       " 'symmetric_difference_update',\n",
       " 'union',\n",
       " 'update']"
      ]
     },
     "execution_count": 24,
     "metadata": {},
     "output_type": "execute_result"
    }
   ],
   "source": [
    "dir(set())"
   ]
  },
  {
   "cell_type": "code",
   "execution_count": 25,
   "metadata": {
    "collapsed": true
   },
   "outputs": [],
   "source": [
    "dct={'a':1,'b':2,'c':3}"
   ]
  },
  {
   "cell_type": "code",
   "execution_count": 26,
   "metadata": {
    "collapsed": false
   },
   "outputs": [
    {
     "data": {
      "text/plain": [
       "dict_values([1, 2, 3])"
      ]
     },
     "execution_count": 26,
     "metadata": {},
     "output_type": "execute_result"
    }
   ],
   "source": [
    "dct.values()"
   ]
  },
  {
   "cell_type": "code",
   "execution_count": 27,
   "metadata": {
    "collapsed": false
   },
   "outputs": [
    {
     "data": {
      "text/plain": [
       "[1, 2, 3]"
      ]
     },
     "execution_count": 27,
     "metadata": {},
     "output_type": "execute_result"
    }
   ],
   "source": [
    "list(dct.values())"
   ]
  },
  {
   "cell_type": "code",
   "execution_count": 28,
   "metadata": {
    "collapsed": false
   },
   "outputs": [
    {
     "data": {
      "text/plain": [
       "['a', 'b', 'c']"
      ]
     },
     "execution_count": 28,
     "metadata": {},
     "output_type": "execute_result"
    }
   ],
   "source": [
    "list(dct.keys())"
   ]
  },
  {
   "cell_type": "code",
   "execution_count": 29,
   "metadata": {
    "collapsed": false
   },
   "outputs": [
    {
     "data": {
      "text/plain": [
       "dict_items([('a', 1), ('b', 2), ('c', 3)])"
      ]
     },
     "execution_count": 29,
     "metadata": {},
     "output_type": "execute_result"
    }
   ],
   "source": [
    "dct.items()"
   ]
  },
  {
   "cell_type": "code",
   "execution_count": 30,
   "metadata": {
    "collapsed": false
   },
   "outputs": [
    {
     "data": {
      "text/plain": [
       "dict_items"
      ]
     },
     "execution_count": 30,
     "metadata": {},
     "output_type": "execute_result"
    }
   ],
   "source": [
    "type(dct.items())"
   ]
  },
  {
   "cell_type": "code",
   "execution_count": 31,
   "metadata": {
    "collapsed": false
   },
   "outputs": [
    {
     "data": {
      "text/plain": [
       "dict"
      ]
     },
     "execution_count": 31,
     "metadata": {},
     "output_type": "execute_result"
    }
   ],
   "source": [
    "type(dct)"
   ]
  },
  {
   "cell_type": "code",
   "execution_count": 32,
   "metadata": {
    "collapsed": false
   },
   "outputs": [
    {
     "data": {
      "text/plain": [
       "dict_keys"
      ]
     },
     "execution_count": 32,
     "metadata": {},
     "output_type": "execute_result"
    }
   ],
   "source": [
    "type(dct.keys())"
   ]
  },
  {
   "cell_type": "code",
   "execution_count": 33,
   "metadata": {
    "collapsed": true
   },
   "outputs": [],
   "source": [
    "abc=(1,2,3,4,)"
   ]
  },
  {
   "cell_type": "code",
   "execution_count": 34,
   "metadata": {
    "collapsed": false
   },
   "outputs": [
    {
     "data": {
      "text/plain": [
       "tuple"
      ]
     },
     "execution_count": 34,
     "metadata": {},
     "output_type": "execute_result"
    }
   ],
   "source": [
    "type(abc)"
   ]
  },
  {
   "cell_type": "code",
   "execution_count": 36,
   "metadata": {
    "collapsed": false
   },
   "outputs": [
    {
     "name": "stdout",
     "output_type": "stream",
     "text": [
      "a --- 1\n",
      "b --- 2\n",
      "c --- 3\n"
     ]
    }
   ],
   "source": [
    "for item in dct.items():\n",
    "    key,value=item\n",
    "    print(key,'---',value)"
   ]
  },
  {
   "cell_type": "code",
   "execution_count": null,
   "metadata": {
    "collapsed": true
   },
   "outputs": [],
   "source": []
  },
  {
   "cell_type": "code",
   "execution_count": null,
   "metadata": {
    "collapsed": true
   },
   "outputs": [],
   "source": []
  },
  {
   "cell_type": "code",
   "execution_count": null,
   "metadata": {
    "collapsed": true
   },
   "outputs": [],
   "source": []
  },
  {
   "cell_type": "code",
   "execution_count": null,
   "metadata": {
    "collapsed": true
   },
   "outputs": [],
   "source": []
  }
 ],
 "metadata": {
  "kernelspec": {
   "display_name": "Python 3",
   "language": "python",
   "name": "python3"
  },
  "language_info": {
   "codemirror_mode": {
    "name": "ipython",
    "version": 3
   },
   "file_extension": ".py",
   "mimetype": "text/x-python",
   "name": "python",
   "nbconvert_exporter": "python",
   "pygments_lexer": "ipython3",
   "version": "3.6.0"
  }
 },
 "nbformat": 4,
 "nbformat_minor": 2
}
